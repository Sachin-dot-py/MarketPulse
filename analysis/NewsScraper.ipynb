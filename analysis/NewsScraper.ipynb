{
 "cells": [
  {
   "cell_type": "code",
   "execution_count": null,
   "metadata": {},
   "outputs": [
    {
     "name": "stdout",
     "output_type": "stream",
     "text": [
      "Gathering in Tel Aviv to watch the release of hostages on Sunday.\n",
      "\n",
      "Hamas released four female Israeli army soldiers on Saturday as part of a hostage-for-prisoner exchange, more than a year after the women were taken captive during the Hamas-led attack on southern Israel on Oct. 7, 2023, that started the war.\n",
      "\n",
      "In a choreographed release, the four hostages wore military-style fatigues as they walked onto a stage in Gaza City. They waved and smiled at a cheering crowd, grinning at one another as Hamas fighters in balaclavas surrounded them.\n",
      "\n",
      "The hostage release is part of a 42-day cease-fire deal that went into effect on Sunday, pausing the fighting between Israel and Hamas. Hamas agreed to incrementally release 33 of the nearly 100 remaining hostages in exchange for more than 1,000 Palestinians jailed by Israel and a partial Israeli withdrawal.\n",
      "\n",
      "The hostages had been recent recruits, working as “spotters” for Israel’s army, reporting on suspicious activity across the border. During the Hamas-led attack, militants stormed the Nahal Oz military base in Israel, killing more than 50 soldiers and abducting the women, who were teenagers at the time, and three other female soldiers.\n",
      "\n",
      "In May, the Israel military released a three-minute edited collection of videos, verified by The New York Times, showing Palestinian fighters, some wearing Hamas headbands, binding the hands of five women, including the four who were released on Saturday. The footage was recorded by body cameras worn by the Hamas militants who abducted them, according to the Hostages and Missing Families Forum, which represents relatives of many of the captives.\n",
      "\n",
      "Here is what else we know about the four released hostages.\n",
      "\n",
      "Liri Albag\n",
      "\n",
      "Image Liri Albag, a soldier who was seized from her army base in southern Israel during the Oct. 7, 2023, attack, in a photograph released by Bring Them Home Now. Credit... via Reuters\n",
      "\n",
      "Ms. Albag, who has dreamed of becoming an architect and interior designer, joined the Israeli military soon after graduating from high school, according to a statement by the Hostage Families Forum.\n",
      "\n",
      "Her family expressed relief and joy at seeing her being released. “Far from what I expected, she looks vibrant,” Ruhama Albag, her aunt, said on live television. “She is cheerful, waving her hand, her spirit unbroken.”\n",
      "\n",
      "In January, Hamas’s military wing released an edited video of Ms. Albag, now 19, speaking for three and a half minutes, in which she said she had been held for more than 450 days.\n",
      "\n",
      "In a statement at the time, Ms. Albag’s family said that “her severe psychological distress” was evident in the video and asked Israel’s prime minister, Benjamin Netanyahu, and other leaders to “make decisions as if your own children were there.”\n",
      "\n",
      "“She is just dozens of kilometers away from us, yet for 456 days we have been unable to bring her home,” the family said.\n",
      "\n",
      "Karina Ariev\n",
      "\n",
      "Image Karina Ariev, a soldier who turned 20 in captivity, in a photograph released by Bring Them Home Now. Credit... via Reuters\n",
      "\n",
      "Ms. Ariev, 20, is the daughter of immigrants from Ukraine, and her family described her as “the connecting force” among friends and family, the families forum said.\n",
      "\n",
      "She called her parents during the attack, describing militants firing guns and rockets, and told them she loved them, according to the Israeli news media. Her family later that day found a Hamas video posted on social media that showed Ms. Ariev and two other women in a jeep, her face bleeding, they said.\n",
      "\n",
      "In August, Ms. Ariev’s older sister, Sasha Ariev, said at an event in Jerusalem spoke of moving home after the Oct. 7 attack to help her struggling parents who were feeling increasingly helpless.\n",
      "\n",
      "Ms. Ariev’s sister said the hostage crisis was consuming her. “How can I sleep when we haven’t succeeded in bringing Karina and all the other hostages home?” she said. “How can I sleep when I’m in my bed and she’s a hostage?”\n",
      "\n",
      "Daniella Gilboa\n",
      "\n",
      "Image A photo released by Hostages Family Forum showing Daniella Gilboa. Credit... via Associated Press\n",
      "\n",
      "Daniella Gilboa, 20, is from Petah Tikva, in central Israel. At the time of her abduction, Ms. Gilboa had been studying piano and hoped to perform professionally one day, the forum said.\n",
      "\n",
      "In July, Ms. Gilboa’s family released a video made by Hamas that they had received months earlier, which showed her and Ms. Ariev in captivity.\n",
      "\n",
      "In an interview with Maariv, an Israeli newspaper, the father of Ms. Gilboa’s boyfriend said the family was feeling mixed emotions over the video. “In her family, there is a feeling of relief alongside a feeling of disappointment,” he was quoted as saying.\n",
      "\n",
      "Naama Levy\n",
      "\n",
      "Image Naama Levy, a soldier who was seized from her army base in southern Israel, in a photograph released by Bring Them Home Now. Credit... via Reuters\n",
      "\n",
      "Naama Levy, who is also now 20, is a triathlete who grew up in Raanana, a leafy town north of Tel Aviv, the forum said.\n",
      "\n",
      "She texted her mother from a safe room on the day of the attack, according to a website focused on campaigning for her release. “I’ve never heard anything like this,” she wrote.\n",
      "\n",
      "A Hamas video of her being taken to Gaza circulated on social media shortly after the attack.\n",
      "\n",
      "In an interview for a documentary about sexual violence during the attack, Ayelet Levy Sachar, Naama’s mother, spoke of her daughter’s kidnapping. She was seen in a Hamas video in pajama bottoms, drenched in blood.\n",
      "\n",
      "“They’re grabbing her by the hair, and she’s all, like, messed up,” she said, adding: “We would like to think that this couldn’t be possible, that nobody would harm a young girl. But then you just see it there.”\n"
     ]
    }
   ],
   "source": [
    "import newspaper\n",
    "\n",
    "source = newspaper.build('https://nytimes.com')\n",
    "for article in source.articles:\n",
    "    print(article.url)\n",
    "    article.download()\n",
    "    article.parse()\n",
    "    print(article.title)\n",
    "    print(article.text)\n",
    "    print(article.publish_date)\n"
   ]
  }
 ],
 "metadata": {
  "kernelspec": {
   "display_name": "Python 3",
   "language": "python",
   "name": "python3"
  },
  "language_info": {
   "codemirror_mode": {
    "name": "ipython",
    "version": 3
   },
   "file_extension": ".py",
   "mimetype": "text/x-python",
   "name": "python",
   "nbconvert_exporter": "python",
   "pygments_lexer": "ipython3",
   "version": "3.9.6"
  }
 },
 "nbformat": 4,
 "nbformat_minor": 2
}
