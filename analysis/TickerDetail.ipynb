{
 "cells": [
  {
   "cell_type": "code",
   "execution_count": 5,
   "metadata": {},
   "outputs": [
    {
     "name": "stdout",
     "output_type": "stream",
     "text": [
      "{'Current Price': 222.78, 'Market Cap': 3350143172608, '52 Week Range': '164.08 - 260.1', 'Volume': 52621751}\n"
     ]
    }
   ],
   "source": [
    "import yfinance as yf\n",
    "\n",
    "def get_stock_data(ticker):\n",
    "    try:\n",
    "        # Fetch stock information\n",
    "        stock = yf.Ticker(ticker)\n",
    "        info = stock.info\n",
    "\n",
    "        # Extract specific details\n",
    "        current_price = info.get(\"currentPrice\", \"N/A\")\n",
    "        market_cap = info.get(\"marketCap\", \"N/A\")\n",
    "        year_range = f\"{info.get('fiftyTwoWeekLow', 'N/A')} - {info.get('fiftyTwoWeekHigh', 'N/A')}\"\n",
    "        volume = info.get(\"volume\", \"N/A\")\n",
    "\n",
    "        # Return the extracted data\n",
    "        return {\n",
    "            \"Current Price\": current_price,\n",
    "            \"Market Cap\": market_cap,\n",
    "            \"52 Week Range\": year_range,\n",
    "            \"Volume\": volume\n",
    "        }\n",
    "    except Exception as e:\n",
    "        return {\"error\": str(e)}\n",
    "\n",
    "# Example usage\n",
    "ticker = \"AAPL\"  # Replace with the desired stock ticker\n",
    "stock_data = get_stock_data(ticker)\n",
    "print(stock_data)\n"
   ]
  }
 ],
 "metadata": {
  "kernelspec": {
   "display_name": "Python 3",
   "language": "python",
   "name": "python3"
  },
  "language_info": {
   "codemirror_mode": {
    "name": "ipython",
    "version": 3
   },
   "file_extension": ".py",
   "mimetype": "text/x-python",
   "name": "python",
   "nbconvert_exporter": "python",
   "pygments_lexer": "ipython3",
   "version": "3.12.7"
  }
 },
 "nbformat": 4,
 "nbformat_minor": 2
}
