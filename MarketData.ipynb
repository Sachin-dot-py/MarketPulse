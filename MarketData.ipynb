{
 "cells": [
  {
   "cell_type": "code",
   "execution_count": 2,
   "metadata": {},
   "outputs": [
    {
     "name": "stdout",
     "output_type": "stream",
     "text": [
      "AAPL: Normalized Volume Change: 7.78\n",
      "MSFT: Normalized Volume Change: 27.51\n",
      "TSLA: Normalized Volume Change: 26.56\n"
     ]
    }
   ],
   "source": [
    "import yfinance as yf\n",
    "from datetime import datetime, timedelta\n",
    "\n",
    "def calculate_normalized_volume_change(ticker, target_date):\n",
    "    try:\n",
    "        # Ensure target_date is in correct format\n",
    "        target_date = datetime.strptime(target_date, \"%Y-%m-%d\").date()\n",
    "        \n",
    "        # Fetch data for the last 7 days + the target date\n",
    "        start_date = target_date - timedelta(days=7)\n",
    "        end_date = target_date + timedelta(days=1)  # Include the target date\n",
    "        \n",
    "        # Fetch historical data\n",
    "        stock_data = yf.Ticker(ticker).history(start=start_date, end=end_date)\n",
    "        \n",
    "        # Ensure data for the target date is available\n",
    "        if target_date not in stock_data.index.date:\n",
    "            raise ValueError(f\"No data available for {ticker} on {target_date}\")\n",
    "        \n",
    "        # Extract volume for the target date\n",
    "        target_date_volume = stock_data.loc[stock_data.index.date == target_date, 'Volume'].iloc[0]\n",
    "        \n",
    "        # Calculate weekly average volume (excluding target date)\n",
    "        weekly_data = stock_data.loc[stock_data.index.date != target_date, 'Volume']\n",
    "        weekly_avg_volume = weekly_data.mean()\n",
    "        \n",
    "        # Calculate Normalized Relative Volume Change\n",
    "        if weekly_avg_volume > 0:\n",
    "            normalized_rvc = abs((target_date_volume - weekly_avg_volume) / weekly_avg_volume * 100)\n",
    "        else:\n",
    "            normalized_rvc = 0  # Avoid division by zero\n",
    "        \n",
    "        return normalized_rvc\n",
    "    except Exception as e:\n",
    "        return {\"Error\": str(e)}\n",
    "\n",
    "# Example usage\n",
    "ticker_date_pairs = [\n",
    "    {\"ticker\": \"AAPL\", \"date\": \"2025-01-22\"},\n",
    "    {\"ticker\": \"MSFT\", \"date\": \"2025-01-22\"},\n",
    "    {\"ticker\": \"TSLA\", \"date\": \"2025-01-22\"}\n",
    "]\n",
    "\n",
    "# Calculate and output Normalized Volume Change for each\n",
    "for item in ticker_date_pairs:\n",
    "    result = calculate_normalized_volume_change(item['ticker'], item['date'])\n",
    "    if isinstance(result, dict) and \"Error\" in result:\n",
    "        print(f\"Error for {item['ticker']}: {result['Error']}\")\n",
    "    else:\n",
    "        print(f\"{item['ticker']}: Normalized Volume Change: {result:.2f}\")\n"
   ]
  }
 ],
 "metadata": {
  "kernelspec": {
   "display_name": "Python 3",
   "language": "python",
   "name": "python3"
  },
  "language_info": {
   "codemirror_mode": {
    "name": "ipython",
    "version": 3
   },
   "file_extension": ".py",
   "mimetype": "text/x-python",
   "name": "python",
   "nbconvert_exporter": "python",
   "pygments_lexer": "ipython3",
   "version": "3.12.7"
  }
 },
 "nbformat": 4,
 "nbformat_minor": 2
}
